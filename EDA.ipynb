{
 "cells": [
  {
   "cell_type": "code",
   "execution_count": 66,
   "metadata": {},
   "outputs": [],
   "source": [
    "import pandas as pd\n",
    "import numpy as np\n",
    "import json\n",
    "import collections\n",
    "import matplotlib.pyplot as plt"
   ]
  },
  {
   "cell_type": "code",
   "execution_count": 3,
   "metadata": {},
   "outputs": [],
   "source": [
    "#VLSP 2016"
   ]
  },
  {
   "cell_type": "code",
   "execution_count": 4,
   "metadata": {},
   "outputs": [],
   "source": [
    "def read_data(path):\n",
    "    data = []\n",
    "    with open(path, 'r', encoding='utf-8') as f:\n",
    "        for line in f:\n",
    "            data.append(json.loads(line))\n",
    "    return data"
   ]
  },
  {
   "cell_type": "code",
   "execution_count": 5,
   "metadata": {},
   "outputs": [],
   "source": [
    "vlsp2016_train = read_data('./data/ner_vlsp2016/train.json')\n",
    "vlsp2016_dev = read_data('./data/ner_vlsp2016/dev.json')\n",
    "vlsp2016_test = read_data('./data/ner_vlsp2016/test.json')"
   ]
  },
  {
   "cell_type": "code",
   "execution_count": 8,
   "metadata": {},
   "outputs": [
    {
     "name": "stdout",
     "output_type": "stream",
     "text": [
      "14860\n",
      "1999\n",
      "2829\n"
     ]
    }
   ],
   "source": [
    "print(len(vlsp2016_train))\n",
    "print(len(vlsp2016_dev))\n",
    "print(len(vlsp2016_test))"
   ]
  },
  {
   "cell_type": "code",
   "execution_count": 9,
   "metadata": {},
   "outputs": [],
   "source": [
    "def filter_entity(data, entity_keep):\n",
    "    tmp = []\n",
    "    total_entity_keep = 0\n",
    "    for i in data:\n",
    "        sentence = i['sentence']\n",
    "        label = i['label']\n",
    "        if not label:\n",
    "            tmp.append({\n",
    "                'sentence': sentence,\n",
    "                'label': []\n",
    "            })\n",
    "        else:\n",
    "            new_label = []\n",
    "            for span in label:\n",
    "                if span[2] == entity_keep:\n",
    "                    new_label.append(span)\n",
    "            total_entity_keep += len(new_label)\n",
    "            tmp.append({\n",
    "                'sentence': sentence,\n",
    "                'label': new_label\n",
    "            })\n",
    "    print(f\"Total entity of data: {total_entity_keep}\")\n",
    "    return tmp"
   ]
  },
  {
   "cell_type": "code",
   "execution_count": 10,
   "metadata": {},
   "outputs": [
    {
     "name": "stdout",
     "output_type": "stream",
     "text": [
      "Total entity of data: 6730\n",
      "Total entity of data: 748\n",
      "Total entity of data: 1294\n"
     ]
    }
   ],
   "source": [
    "vlsp2016_train = filter_entity(vlsp2016_train, \"PER\")\n",
    "vlsp2016_dev = filter_entity(vlsp2016_dev, \"PER\")\n",
    "vlsp2016_test = filter_entity(vlsp2016_test, \"PER\")"
   ]
  },
  {
   "cell_type": "code",
   "execution_count": 11,
   "metadata": {},
   "outputs": [],
   "source": [
    "def check_sentence_not_entity(data):\n",
    "    count_entity = 0\n",
    "    for i in data:\n",
    "        if not i['label']:\n",
    "            count_entity += 1\n",
    "    print(f\"Ratio total sentence empty entity and data: {count_entity/len(data)}\")\n"
   ]
  },
  {
   "cell_type": "code",
   "execution_count": 12,
   "metadata": {},
   "outputs": [
    {
     "name": "stdout",
     "output_type": "stream",
     "text": [
      "Ratio total sentence empty entity and data: 0.6686406460296097\n",
      "Ratio total sentence empty entity and data: 0.7143571785892946\n",
      "Ratio total sentence empty entity and data: 0.6956521739130435\n"
     ]
    }
   ],
   "source": [
    "check_sentence_not_entity(vlsp2016_train)\n",
    "check_sentence_not_entity(vlsp2016_dev)\n",
    "check_sentence_not_entity(vlsp2016_test)"
   ]
  },
  {
   "cell_type": "code",
   "execution_count": 13,
   "metadata": {},
   "outputs": [],
   "source": [
    "def filter_sentence_empty_entity(data):\n",
    "    new_data = []\n",
    "    for i in data:\n",
    "        if not i['label']:\n",
    "            continue\n",
    "        else:\n",
    "            new_data.append(i)\n",
    "    print(f\"Length of data after filter: {len(new_data)}\")\n",
    "    return new_data"
   ]
  },
  {
   "cell_type": "code",
   "execution_count": 14,
   "metadata": {
    "tags": []
   },
   "outputs": [
    {
     "name": "stdout",
     "output_type": "stream",
     "text": [
      "Length of data after filter: 4924\n",
      "Length of data after filter: 571\n",
      "Length of data after filter: 861\n"
     ]
    }
   ],
   "source": [
    "vlsp2016_train = filter_sentence_empty_entity(vlsp2016_train)\n",
    "vlsp2016_dev = filter_sentence_empty_entity(vlsp2016_dev)\n",
    "vlsp2016_test = filter_sentence_empty_entity(vlsp2016_test)"
   ]
  },
  {
   "cell_type": "code",
   "execution_count": 16,
   "metadata": {},
   "outputs": [],
   "source": [
    "def format_entity(data):\n",
    "    new_data = []\n",
    "    for i in data:\n",
    "        label = i['label']\n",
    "        if not label:\n",
    "            new_data.append(i)\n",
    "        else:\n",
    "            new_label = []\n",
    "            for span in label:\n",
    "                span[2] = 'PERSON'\n",
    "                new_label.append(span)\n",
    "            new_data.append({\n",
    "                'sentence': i['sentence'],\n",
    "                'label': new_label\n",
    "            })\n",
    "    return new_data"
   ]
  },
  {
   "cell_type": "code",
   "execution_count": 17,
   "metadata": {},
   "outputs": [],
   "source": [
    "vlsp2016_train = format_entity(vlsp2016_train)\n",
    "vlsp2016_dev = format_entity(vlsp2016_dev)\n",
    "vlsp2016_test = format_entity(vlsp2016_test)"
   ]
  },
  {
   "cell_type": "code",
   "execution_count": 18,
   "metadata": {},
   "outputs": [
    {
     "data": {
      "text/plain": [
       "[{'sentence': 'Chúng_tôi lên_đường ngay khi nhận được email của ngài Noel Choong - trưởng đại_diện của Cơ_quan Hàng_hải quốc_tế ( IMB ) tại Malaysia - đồng_ý tiếp chúng_tôi để cung_cấp những thông_tin mới nhất về hải_tặc eo_biển Malacca .',\n",
       "  'label': [[9, 10, 'PERSON']]},\n",
       " {'sentence': 'Người lái thuyền Indonesia tên Dony tỏ ra hài_hước : “ Ở Batam về đêm tôi có_thể nhìn thấy nhà bạn tôi bên Singapore đỏ_đèn hay chưa ... ” .',\n",
       "  'label': [[5, 5, 'PERSON']]},\n",
       " {'sentence': 'Khi nghe chúng_tôi kể về quán cà_phê với những thuỷ_thủ thất_nghiệp , Sitompul M. , phóng_viên chuyên_trách về eo_biển Malacca của tờ Batam Pos , nói : “ Đấy là điểm hẹn của những tay thuỷ_thủ thất_nghiệp .',\n",
       "  'label': [[12, 13, 'PERSON']]},\n",
       " {'sentence': 'Trong những lần gọi điện hẹn gặp Sitompul M. , anh luôn thay_đổi điểm hẹn một hai lần trước khi đến chỗ hẹn chính_thức .',\n",
       "  'label': [[7, 8, 'PERSON']]},\n",
       " {'sentence': '“ Ở đây luôn có tai_mắt của cướp_biển , chúng sẵn_sàng ném chúng_tôi cho cá_mập ăn chỉ vì một bài báo làm ảnh_hưởng đến công_việc làm_ăn của chúng ” , M. giải_thích cho sự lỡ hẹn của mình .',\n",
       "  'label': [[30, 30, 'PERSON']]}]"
      ]
     },
     "execution_count": 18,
     "metadata": {},
     "output_type": "execute_result"
    }
   ],
   "source": [
    "vlsp2016_train[:5]"
   ]
  },
  {
   "cell_type": "code",
   "execution_count": 19,
   "metadata": {},
   "outputs": [],
   "source": [
    "def write_data_spacy_format(data, path):\n",
    "    with open(path, 'w', encoding='utf-8') as f:\n",
    "        for i in data:\n",
    "            json.dump(i, f)\n",
    "            f.write('\\n')"
   ]
  },
  {
   "cell_type": "code",
   "execution_count": 20,
   "metadata": {},
   "outputs": [],
   "source": [
    "write_data_spacy_format(vlsp2016_train, './pername/vlsp2016_train.json')\n",
    "write_data_spacy_format(vlsp2016_dev, './pername/vlsp2016_dev.json')\n",
    "write_data_spacy_format(vlsp2016_test, './pername/vlsp2016_test.json')"
   ]
  },
  {
   "cell_type": "code",
   "execution_count": null,
   "metadata": {},
   "outputs": [],
   "source": []
  },
  {
   "cell_type": "code",
   "execution_count": 12,
   "metadata": {},
   "outputs": [],
   "source": []
  },
  {
   "cell_type": "code",
   "execution_count": null,
   "metadata": {},
   "outputs": [],
   "source": []
  },
  {
   "cell_type": "code",
   "execution_count": 24,
   "metadata": {},
   "outputs": [],
   "source": [
    "#Vin AI Covid"
   ]
  },
  {
   "cell_type": "code",
   "execution_count": 21,
   "metadata": {},
   "outputs": [],
   "source": [
    "vinai_train = read_data('./data/ner_covid19/train.json')\n",
    "vinai_dev = read_data('./data/ner_covid19/dev.json')\n",
    "vinai_test = read_data('./data/ner_covid19/test.json')"
   ]
  },
  {
   "cell_type": "code",
   "execution_count": 22,
   "metadata": {},
   "outputs": [
    {
     "name": "stdout",
     "output_type": "stream",
     "text": [
      "5027\n",
      "2000\n",
      "3000\n"
     ]
    }
   ],
   "source": [
    "print(len(vinai_train))\n",
    "print(len(vinai_dev))\n",
    "print(len(vinai_test))"
   ]
  },
  {
   "cell_type": "code",
   "execution_count": 23,
   "metadata": {},
   "outputs": [
    {
     "name": "stdout",
     "output_type": "stream",
     "text": [
      "Total entity of data: 349\n",
      "Total entity of data: 188\n",
      "Total entity of data: 318\n"
     ]
    }
   ],
   "source": [
    "vinai_train = filter_entity(vinai_train, \"NAME\")\n",
    "vinai_dev = filter_entity(vinai_dev, \"NAME\")\n",
    "vinai_test = filter_entity(vinai_test, \"NAME\")"
   ]
  },
  {
   "cell_type": "code",
   "execution_count": 24,
   "metadata": {},
   "outputs": [
    {
     "name": "stdout",
     "output_type": "stream",
     "text": [
      "Ratio total sentence empty entity and data: 0.9427093694052119\n",
      "Ratio total sentence empty entity and data: 0.9185\n",
      "Ratio total sentence empty entity and data: 0.9196666666666666\n"
     ]
    }
   ],
   "source": [
    "check_sentence_not_entity(vinai_train)\n",
    "check_sentence_not_entity(vinai_dev)\n",
    "check_sentence_not_entity(vinai_test)"
   ]
  },
  {
   "cell_type": "code",
   "execution_count": 25,
   "metadata": {},
   "outputs": [
    {
     "name": "stdout",
     "output_type": "stream",
     "text": [
      "Length of data after filter: 288\n",
      "Length of data after filter: 163\n",
      "Length of data after filter: 241\n"
     ]
    }
   ],
   "source": [
    "vinai_train = filter_sentence_empty_entity(vinai_train)\n",
    "vinai_dev = filter_sentence_empty_entity(vinai_dev)\n",
    "vinai_test = filter_sentence_empty_entity(vinai_test)"
   ]
  },
  {
   "cell_type": "code",
   "execution_count": 27,
   "metadata": {},
   "outputs": [],
   "source": [
    "vinai_train = format_entity(vinai_train)\n",
    "vinai_dev = format_entity(vinai_dev)\n",
    "vinai_test = format_entity(vinai_test)"
   ]
  },
  {
   "cell_type": "code",
   "execution_count": 28,
   "metadata": {},
   "outputs": [
    {
     "data": {
      "text/plain": [
       "[{'sentence': 'Trường_hợp bệnh_nhân 188 L.T.H. , theo thông_tin từ cơ_quan y_tế địa_phương , bệnh_nhân về nhà ngày 14 - 4 và từ đó chỉ tiếp_xúc với chồng và con , đây không phải là tái_nhiễm mà do có_thể virus yếu ở thời_điểm lấy mẫu lần trước , hoặc vị_trí lấy mẫu , thời_điểm lấy mẫu dẫn đến âm_tính giả .',\n",
       "  'label': [[3, 3, 'PERSON']]},\n",
       " {'sentence': 'Trong đó đáng chú_ý có bệnh_nhân 116 N.X.T. - bác_sĩ của Bệnh_viện Bệnh nhiệt_đới trung_ương , và bệnh_nhân 21 N.Q.T. - người đi chuyến máy_bay VN 0054 về Việt_Nam rạng sáng 2 - 3 cùng đoàn bộ_trưởng Bộ Kế_hoạch - đầu_tư Nguyễn_Chí_Dũng và bệnh_nhân 17 .',\n",
       "  'label': [[7, 7, 'PERSON'], [19, 19, 'PERSON'], [41, 41, 'PERSON']]},\n",
       " {'sentence': 'Khoa chị M. làm_việc đang còn hơn 10 bệnh_nhân và hơn 10 nhân_viên y_tế đang trực_chiến .',\n",
       "  'label': [[2, 2, 'PERSON']]},\n",
       " {'sentence': 'Bệnh_nhân thứ 19 và 20 là bác gái và lái_xe của Nhung .',\n",
       "  'label': [[11, 11, 'PERSON']]},\n",
       " {'sentence': 'Ông Chung cũng thông_tin theo xác_định sơ_bộ thời_gian từ sáng 2 - 3 đến chiều 6 - 3 , bệnh_nhân N.Q.T. đã tiếp_xúc với 96 người .',\n",
       "  'label': [[20, 20, 'PERSON']]}]"
      ]
     },
     "execution_count": 28,
     "metadata": {},
     "output_type": "execute_result"
    }
   ],
   "source": [
    "vinai_train[:5]"
   ]
  },
  {
   "cell_type": "code",
   "execution_count": 29,
   "metadata": {},
   "outputs": [],
   "source": [
    "write_data_spacy_format(vinai_train, './pername/vinai_train.json')\n",
    "write_data_spacy_format(vinai_dev, './pername/vinai_dev.json')\n",
    "write_data_spacy_format(vinai_test, './pername/vinai_test.json')"
   ]
  },
  {
   "cell_type": "code",
   "execution_count": null,
   "metadata": {},
   "outputs": [],
   "source": []
  },
  {
   "cell_type": "code",
   "execution_count": null,
   "metadata": {},
   "outputs": [],
   "source": []
  },
  {
   "cell_type": "code",
   "execution_count": null,
   "metadata": {},
   "outputs": [],
   "source": []
  },
  {
   "cell_type": "code",
   "execution_count": 30,
   "metadata": {},
   "outputs": [],
   "source": [
    "def parsing(label):\n",
    "    stack=[]\n",
    "    obj=[]\n",
    "    for i,lb in enumerate(label):\n",
    "        if lb[0]=='B':\n",
    "            if len(stack)==0:\n",
    "                start=i\n",
    "                stack.append(lb[2:])\n",
    "            elif label[i-1][0]!='O':\n",
    "                end=i-1\n",
    "                entity=stack.pop()\n",
    "                x=[start,end,entity]\n",
    "                stack.append(lb[2:])\n",
    "                start=i\n",
    "                obj.append(x)\n",
    "            if i==len(label)-1:\n",
    "                end=i\n",
    "                entity=stack.pop()\n",
    "                x=[start,end,entity]\n",
    "                obj.append(x)\n",
    "        elif lb=='O' :\n",
    "            if i>0 and label[i-1][0]!='O' :\n",
    "                end=i-1\n",
    "                entity=stack.pop()\n",
    "                x=[start,end,entity]\n",
    "                obj.append(x)\n",
    "        else:\n",
    "            if i==len(label)-1:\n",
    "                end=i\n",
    "                entity=stack.pop()\n",
    "                x=[start,end,entity]\n",
    "                obj.append(x)\n",
    "    return obj"
   ]
  },
  {
   "cell_type": "code",
   "execution_count": 31,
   "metadata": {},
   "outputs": [],
   "source": [
    "def read_syllables_datat_to_iob(path):\n",
    "    data = []\n",
    "    tokens = []\n",
    "    label = []\n",
    "    with open(path, 'r', encoding='utf-8') as f:\n",
    "        for i in f.readlines():\n",
    "            if not i.strip():\n",
    "                sentence = \" \".join(tokens)\n",
    "                data.append({\n",
    "                    'sentence': sentence,\n",
    "                    'label': label\n",
    "                })\n",
    "                tokens = []\n",
    "                label = []\n",
    "            else:\n",
    "                tokens.extend(i.strip().split(\" \")[:-1])\n",
    "                label.append(i.strip().split(\" \")[-1])\n",
    "    return data"
   ]
  },
  {
   "cell_type": "code",
   "execution_count": 32,
   "metadata": {},
   "outputs": [],
   "source": [
    "vlsp2018_train = read_syllables_datat_to_iob('data/ner_vlsp2018/person_name_train_syllables_vlsp2018.txt')\n",
    "vlsp2018_dev = read_syllables_datat_to_iob('data/ner_vlsp2018/person_name_dev_syllables_vlsp2018.txt')\n",
    "vlsp2018_test = read_syllables_datat_to_iob('data/ner_vlsp2018/person_name_test_syllables_vlsp2018.txt')"
   ]
  },
  {
   "cell_type": "code",
   "execution_count": 33,
   "metadata": {},
   "outputs": [],
   "source": [
    "def iob2spacy(data):\n",
    "    for idx, sample in enumerate(data):\n",
    "        label = parsing(sample['label'])\n",
    "        sample['label'] = label\n",
    "        data[idx] = sample\n",
    "    return data"
   ]
  },
  {
   "cell_type": "code",
   "execution_count": 34,
   "metadata": {},
   "outputs": [],
   "source": [
    "vlsp2018_train = iob2spacy(vlsp2018_train)\n",
    "vlsp2018_dev = iob2spacy(vlsp2018_dev)\n",
    "vlsp2018_test = iob2spacy(vlsp2018_test)"
   ]
  },
  {
   "cell_type": "code",
   "execution_count": 35,
   "metadata": {},
   "outputs": [
    {
     "name": "stdout",
     "output_type": "stream",
     "text": [
      "4554\n",
      "1565\n",
      "2262\n"
     ]
    }
   ],
   "source": [
    "print(len(vlsp2018_train))\n",
    "print(len(vlsp2018_dev))\n",
    "print(len(vlsp2018_test))"
   ]
  },
  {
   "cell_type": "code",
   "execution_count": 36,
   "metadata": {},
   "outputs": [
    {
     "name": "stdout",
     "output_type": "stream",
     "text": [
      "Total entity of data: 6427\n",
      "Total entity of data: 2168\n",
      "Total entity of data: 3518\n"
     ]
    }
   ],
   "source": [
    "vlsp2018_train = filter_entity(vlsp2018_train, \"PERSON\")\n",
    "vlsp2018_dev = filter_entity(vlsp2018_dev, \"PERSON\")\n",
    "vlsp2018_test = filter_entity(vlsp2018_test, \"PERSON\")"
   ]
  },
  {
   "cell_type": "code",
   "execution_count": 37,
   "metadata": {},
   "outputs": [
    {
     "name": "stdout",
     "output_type": "stream",
     "text": [
      "Ratio total sentence empty entity and data: 0.0\n",
      "Ratio total sentence empty entity and data: 0.0\n",
      "Ratio total sentence empty entity and data: 0.0\n"
     ]
    }
   ],
   "source": [
    "check_sentence_not_entity(vlsp2018_train)\n",
    "check_sentence_not_entity(vlsp2018_dev)\n",
    "check_sentence_not_entity(vlsp2018_test)"
   ]
  },
  {
   "cell_type": "code",
   "execution_count": 38,
   "metadata": {},
   "outputs": [],
   "source": [
    "vlsp2018_train = format_entity(vlsp2018_train)\n",
    "vlsp2018_dev = format_entity(vlsp2018_dev)\n",
    "vlsp2018_test = format_entity(vlsp2018_test)"
   ]
  },
  {
   "cell_type": "code",
   "execution_count": 39,
   "metadata": {},
   "outputs": [
    {
     "data": {
      "text/plain": [
       "[{'sentence': \"Đây là lý do khiến Yoon Ah quyết định cắt mái tóc dài ' nữ thần '\",\n",
       "  'label': [[5, 6, 'PERSON']]},\n",
       " {'sentence': 'Mái tóc cũ của thành viên SNSD bị hư hỏng nặng nề và Yoon Ah thậm chí không muốn nuôi tóc lại .',\n",
       "  'label': [[13, 14, 'PERSON']]},\n",
       " {'sentence': 'Sau khi kết thúc kỳ quảng bá cho album kỷ niệm 10 năm , Yoon Ah gây sốc vì cắt phăng mái tóc dài , để kiểu đầu bob lạ lẫm .',\n",
       "  'label': [[14, 15, 'PERSON']]},\n",
       " {'sentence': 'Nhiều fan lo lắng có phải Yoon Ah đã gặp vấn đề tâm lý nào đó nên mới quyết định thay đổi .',\n",
       "  'label': [[6, 7, 'PERSON']]},\n",
       " {'sentence': 'Yoon Ah đổi phong cách với mái tóc ngắn .',\n",
       "  'label': [[0, 1, 'PERSON']]}]"
      ]
     },
     "execution_count": 39,
     "metadata": {},
     "output_type": "execute_result"
    }
   ],
   "source": [
    "vlsp2018_train[:5]"
   ]
  },
  {
   "cell_type": "code",
   "execution_count": 41,
   "metadata": {},
   "outputs": [],
   "source": [
    "write_data_spacy_format(vlsp2018_train, './pername/vlsp2018_train.json')\n",
    "write_data_spacy_format(vlsp2018_dev, './pername/vlsp2018_dev.json')\n",
    "write_data_spacy_format(vlsp2018_test, './pername/vlsp2018_test.json')"
   ]
  },
  {
   "cell_type": "code",
   "execution_count": null,
   "metadata": {},
   "outputs": [],
   "source": []
  },
  {
   "cell_type": "code",
   "execution_count": null,
   "metadata": {},
   "outputs": [],
   "source": []
  },
  {
   "cell_type": "code",
   "execution_count": 42,
   "metadata": {},
   "outputs": [],
   "source": [
    "final_train = []\n",
    "final_train.extend(vlsp2016_train)\n",
    "final_train.extend(vlsp2018_train)\n",
    "final_train.extend(vinai_train)\n",
    "\n",
    "final_dev = []\n",
    "final_dev.extend(vlsp2016_dev)\n",
    "final_dev.extend(vlsp2018_dev)\n",
    "final_dev.extend(vinai_dev)\n",
    "\n",
    "final_test = []\n",
    "final_test.extend(vlsp2016_test)\n",
    "final_test.extend(vlsp2018_test)\n",
    "final_test.extend(vinai_test)"
   ]
  },
  {
   "cell_type": "code",
   "execution_count": 43,
   "metadata": {},
   "outputs": [],
   "source": [
    "write_data_spacy_format(final_train, './pername/final_train.json')\n",
    "write_data_spacy_format(final_dev, './pername/final_dev.json')\n",
    "write_data_spacy_format(final_test, './pername/final_test.json')"
   ]
  },
  {
   "cell_type": "code",
   "execution_count": 47,
   "metadata": {},
   "outputs": [
    {
     "name": "stdout",
     "output_type": "stream",
     "text": [
      "9766\n",
      "2299\n",
      "3364\n"
     ]
    }
   ],
   "source": [
    "print(len(final_train))\n",
    "print(len(final_dev))\n",
    "print(len(final_test))"
   ]
  },
  {
   "cell_type": "code",
   "execution_count": null,
   "metadata": {},
   "outputs": [],
   "source": []
  },
  {
   "cell_type": "code",
   "execution_count": null,
   "metadata": {},
   "outputs": [],
   "source": []
  },
  {
   "cell_type": "code",
   "execution_count": 44,
   "metadata": {},
   "outputs": [],
   "source": [
    "def check_label(data):\n",
    "    label_set = []\n",
    "    for i in data:\n",
    "        if not i['label']:\n",
    "            continue\n",
    "        else:\n",
    "            label = i['label']\n",
    "            for span in label:\n",
    "                if span[2] not in label_set:\n",
    "                    label_set.append(span[2])\n",
    "    return label_set"
   ]
  },
  {
   "cell_type": "code",
   "execution_count": 45,
   "metadata": {},
   "outputs": [
    {
     "data": {
      "text/plain": [
       "['PERSON']"
      ]
     },
     "execution_count": 45,
     "metadata": {},
     "output_type": "execute_result"
    }
   ],
   "source": [
    "check_label(vinai_train)"
   ]
  },
  {
   "cell_type": "code",
   "execution_count": 80,
   "metadata": {},
   "outputs": [],
   "source": [
    "def spacy2iob(data):\n",
    "    new_data = []\n",
    "    for i in data:\n",
    "        if not i['label']:\n",
    "            new_data.append(i)\n",
    "        else:\n",
    "            sentence = i['sentence']\n",
    "            tokens = sentence.split(\" \")\n",
    "            label = i['label']\n",
    "            iob_label = ['O']*len(tokens)\n",
    "            for span in label:\n",
    "                start = span[0]\n",
    "                end = span[1] + 1\n",
    "                for j in range(start, end):\n",
    "                    if j == start:\n",
    "                        iob_label[j] = 'B-'+span[2]\n",
    "                    else:\n",
    "                        iob_label[j] = 'I-'+span[2]\n",
    "            new_data.append({\n",
    "                'sentence': sentence,\n",
    "                'label': iob_label\n",
    "            })\n",
    "    return new_data"
   ]
  },
  {
   "cell_type": "code",
   "execution_count": 83,
   "metadata": {},
   "outputs": [],
   "source": [
    "vlsp2016_test = spacy2iob(vlsp2016_test)\n",
    "vlsp2018_test = spacy2iob(vlsp2018_test)\n",
    "vinai_test = spacy2iob(vinai_test)"
   ]
  },
  {
   "cell_type": "code",
   "execution_count": 84,
   "metadata": {},
   "outputs": [],
   "source": [
    "write_data_spacy_format(vlsp2016_test, 'data/person_name/vlsp2016_iob_test.json')\n",
    "write_data_spacy_format(vlsp2018_test, 'data/person_name/vlsp2018_iob_test.json')\n",
    "write_data_spacy_format(vinai_test, 'data/person_name/vinai_iob_test.json')"
   ]
  },
  {
   "cell_type": "code",
   "execution_count": null,
   "metadata": {},
   "outputs": [],
   "source": []
  },
  {
   "cell_type": "code",
   "execution_count": null,
   "metadata": {},
   "outputs": [],
   "source": []
  },
  {
   "cell_type": "code",
   "execution_count": null,
   "metadata": {},
   "outputs": [],
   "source": []
  },
  {
   "cell_type": "code",
   "execution_count": 48,
   "metadata": {},
   "outputs": [],
   "source": [
    "def no_accent_vietnamese(s):\n",
    "    s = re.sub('[áàảãạăắằẳẵặâấầẩẫậ]', 'a', s)\n",
    "    s = re.sub('[ÁÀẢÃẠĂẮẰẲẴẶÂẤẦẨẪẬ]', 'A', s)\n",
    "    s = re.sub('[éèẻẽẹêếềểễệ]', 'e', s)\n",
    "    s = re.sub('[ÉÈẺẼẸÊẾỀỂỄỆ]', 'E', s)\n",
    "    s = re.sub('[óòỏõọôốồổỗộơớờởỡợ]', 'o', s)\n",
    "    s = re.sub('[ÓÒỎÕỌÔỐỒỔỖỘƠỚỜỞỠỢ]', 'O', s)\n",
    "    s = re.sub('[íìỉĩị]', 'i', s)\n",
    "    s = re.sub('[ÍÌỈĨỊ]', 'I', s)\n",
    "    s = re.sub('[úùủũụưứừửữự]', 'u', s)\n",
    "    s = re.sub('[ÚÙỦŨỤƯỨỪỬỮỰ]', 'U', s)\n",
    "    s = re.sub('[ýỳỷỹỵ]', 'y', s)\n",
    "    s = re.sub('[ÝỲỶỸỴ]', 'Y', s)\n",
    "    s = re.sub('đ', 'd', s)\n",
    "    s = re.sub('Đ', 'D', s)\n",
    "    return s"
   ]
  },
  {
   "cell_type": "code",
   "execution_count": 49,
   "metadata": {},
   "outputs": [],
   "source": [
    "import pandas as pd\n",
    "import re"
   ]
  },
  {
   "cell_type": "code",
   "execution_count": 50,
   "metadata": {},
   "outputs": [],
   "source": [
    "df = pd.read_excel('data/Danh-sách.xlsx')"
   ]
  },
  {
   "cell_type": "code",
   "execution_count": 51,
   "metadata": {},
   "outputs": [],
   "source": [
    "df = df['Họ và Tên']"
   ]
  },
  {
   "cell_type": "code",
   "execution_count": 52,
   "metadata": {},
   "outputs": [],
   "source": [
    "list_name = list(df)"
   ]
  },
  {
   "cell_type": "code",
   "execution_count": 53,
   "metadata": {},
   "outputs": [
    {
     "data": {
      "text/plain": [
       "'Hồ Thị Thanh Tuyền'"
      ]
     },
     "execution_count": 53,
     "metadata": {},
     "output_type": "execute_result"
    }
   ],
   "source": [
    "list_name[0]"
   ]
  },
  {
   "cell_type": "code",
   "execution_count": 54,
   "metadata": {},
   "outputs": [],
   "source": [
    "def filter_name(data):\n",
    "    new_data = []\n",
    "    for i in data:\n",
    "        try:\n",
    "            i = re.sub('\\\\xa0', '', i)\n",
    "            i = re.sub('\\s+', ' ', i)\n",
    "            new_data.append(i)\n",
    "        except:\n",
    "            continue\n",
    "    return new_data"
   ]
  },
  {
   "cell_type": "code",
   "execution_count": 55,
   "metadata": {},
   "outputs": [],
   "source": [
    "list_name = filter_name(list_name)"
   ]
  },
  {
   "cell_type": "code",
   "execution_count": 56,
   "metadata": {},
   "outputs": [
    {
     "data": {
      "text/plain": [
       "686"
      ]
     },
     "execution_count": 56,
     "metadata": {},
     "output_type": "execute_result"
    }
   ],
   "source": [
    "len(list_name)"
   ]
  },
  {
   "cell_type": "code",
   "execution_count": 57,
   "metadata": {},
   "outputs": [],
   "source": [
    "new_list = []\n",
    "for i in list_name:\n",
    "    new_list.append(i)\n",
    "    new_list.append(i.lower())\n",
    "    new_list.append(no_accent_vietnamese(i))\n",
    "    new_list.append(no_accent_vietnamese(i).lower())"
   ]
  },
  {
   "cell_type": "code",
   "execution_count": 58,
   "metadata": {},
   "outputs": [
    {
     "data": {
      "text/plain": [
       "2744"
      ]
     },
     "execution_count": 58,
     "metadata": {},
     "output_type": "execute_result"
    }
   ],
   "source": [
    "len(new_list)"
   ]
  },
  {
   "cell_type": "code",
   "execution_count": 59,
   "metadata": {},
   "outputs": [],
   "source": [
    "with open('./pername/list_name.txt', 'w', encoding='utf-8') as f:\n",
    "    for i in new_list:\n",
    "        f.write('%s\\n' %i)"
   ]
  },
  {
   "cell_type": "code",
   "execution_count": 88,
   "metadata": {},
   "outputs": [],
   "source": [
    "def EDA_data(data):\n",
    "    seq_len_tokens = []\n",
    "    for i in data:\n",
    "        sentence = i['sentence']\n",
    "        tokens = sentence.split()\n",
    "        seq_len_tokens.append(len(tokens))\n",
    "    counter = dict(collections.Counter(seq_len_tokens))\n",
    "#     print(counter)\n",
    "    counter = dict(sorted(counter.items()))\n",
    "#     print(sum(counter.values()))\n",
    "#     print(counter)\n",
    "    x = list(counter.keys())\n",
    "    y = list(counter.values())\n",
    "    plt.bar(x, y)\n",
    "    plt.show()\n",
    "    "
   ]
  },
  {
   "cell_type": "code",
   "execution_count": 93,
   "metadata": {},
   "outputs": [
    {
     "data": {
      "image/png": "[encoded data removed]",
      "text/plain": [
       "<Figure size 432x288 with 1 Axes>"
      ]
     },
     "metadata": {
      "needs_background": "light"
     },
     "output_type": "display_data"
    },
    {
     "data": {
      "image/png": "[encoded data removed]",
      "text/plain": [
       "<Figure size 432x288 with 1 Axes>"
      ]
     },
     "metadata": {
      "needs_background": "light"
     },
     "output_type": "display_data"
    },
    {
     "data": {
      "image/png": "[encoded data removed]",
      "text/plain": [
       "<Figure size 432x288 with 1 Axes>"
      ]
     },
     "metadata": {
      "needs_background": "light"
     },
     "output_type": "display_data"
    }
   ],
   "source": [
    "EDA_data(vlsp2016_train)\n",
    "EDA_data(vlsp2018_train)\n",
    "EDA_data(vinai_train)"
   ]
  },
  {
   "cell_type": "code",
   "execution_count": 94,
   "metadata": {},
   "outputs": [],
   "source": [
    "# max_seq_len = 60"
   ]
  },
  {
   "cell_type": "code",
   "execution_count": 95,
   "metadata": {},
   "outputs": [],
   "source": [
    "def filter_data(data, max_seq_len):\n",
    "    new_data = []\n",
    "    for i in data:\n",
    "        sentence = i['sentence']\n",
    "        if len(sentence.split()) > max_seq_len:\n",
    "            continue\n",
    "        else:\n",
    "            new_data.append(i)\n",
    "    print(len(new_data))\n",
    "    return new_data"
   ]
  },
  {
   "cell_type": "code",
   "execution_count": 96,
   "metadata": {},
   "outputs": [
    {
     "name": "stdout",
     "output_type": "stream",
     "text": [
      "4821\n",
      "554\n",
      "834\n",
      "4130\n",
      "1400\n",
      "2049\n",
      "269\n",
      "156\n",
      "225\n"
     ]
    }
   ],
   "source": [
    "vlsp2016_train = filter_data(vlsp2016_train, 60)\n",
    "vlsp2016_dev = filter_data(vlsp2016_dev, 60)\n",
    "vlsp2016_test = filter_data(vlsp2016_test, 60)\n",
    "vlsp2018_train = filter_data(vlsp2018_train, 60)\n",
    "vlsp2018_dev = filter_data(vlsp2018_dev, 60)\n",
    "vlsp2018_test = filter_data(vlsp2018_test, 60)\n",
    "vinai_train = filter_data(vinai_train, 60)\n",
    "vinai_dev = filter_data(vinai_dev, 60)\n",
    "vinai_test = filter_data(vinai_test, 60)"
   ]
  },
  {
   "cell_type": "code",
   "execution_count": 97,
   "metadata": {},
   "outputs": [],
   "source": [
    "def check_sentence_empty_entity(data):\n",
    "    sentence_empty_entity = []\n",
    "    sentence_entity = []\n",
    "    for i in data:\n",
    "        if i['label']:\n",
    "            sentence_entity.append(i)\n",
    "        else:\n",
    "            sentence_empty_entity.append(i)\n",
    "    print(f'total samples sentence have entity {len(sentence_entity)}')\n",
    "    print(f'total samples sentence haven\\'t entity {len(sentence_empty_entity)}')\n",
    "    return sentence_entity, sentence_empty_entity"
   ]
  },
  {
   "cell_type": "code",
   "execution_count": 98,
   "metadata": {},
   "outputs": [
    {
     "name": "stdout",
     "output_type": "stream",
     "text": [
      "total samples sentence have entity 4821\n",
      "total samples sentence haven't entity 0\n",
      "total samples sentence have entity 4130\n",
      "total samples sentence haven't entity 0\n",
      "total samples sentence have entity 269\n",
      "total samples sentence haven't entity 0\n"
     ]
    }
   ],
   "source": [
    "vlsp2016_train, vlsp2016_train_not_entity = check_sentence_empty_entity(vlsp2016_train)\n",
    "vlsp2018_train, vlsp2018_train_not_entity = check_sentence_empty_entity(vlsp2018_train)\n",
    "vinai_train, vinai_train_not_entity = check_sentence_empty_entity(vinai_train)"
   ]
  },
  {
   "cell_type": "code",
   "execution_count": 99,
   "metadata": {},
   "outputs": [],
   "source": [
    "final_train = []\n",
    "final_train.extend(vlsp2016_train)\n",
    "final_train.extend(vlsp2018_train)\n",
    "final_train.extend(vinai_train)\n",
    "\n",
    "final_dev = []\n",
    "final_dev.extend(vlsp2016_dev)\n",
    "final_dev.extend(vlsp2018_dev)\n",
    "final_dev.extend(vinai_dev)\n",
    "\n",
    "final_test = []\n",
    "final_test.extend(vlsp2016_test)\n",
    "final_test.extend(vlsp2018_test)\n",
    "final_test.extend(vinai_test)"
   ]
  },
  {
   "cell_type": "code",
   "execution_count": 132,
   "metadata": {},
   "outputs": [
    {
     "name": "stdout",
     "output_type": "stream",
     "text": [
      "9220\n",
      "2110\n",
      "3108\n"
     ]
    }
   ],
   "source": [
    "print(len(final_train))\n",
    "print(len(final_dev))\n",
    "print(len(final_test))"
   ]
  },
  {
   "cell_type": "code",
   "execution_count": 104,
   "metadata": {},
   "outputs": [],
   "source": [
    "import random"
   ]
  },
  {
   "cell_type": "code",
   "execution_count": 133,
   "metadata": {},
   "outputs": [],
   "source": [
    "write_data_spacy_format(final_train, './pername/max_seq_len_60/train_60.json')\n",
    "write_data_spacy_format(final_dev, './pername/max_seq_len_60/dev_60.json')\n",
    "write_data_spacy_format(final_train_gen, './pername/max_seq_len_60/test_60.json')"
   ]
  },
  {
   "cell_type": "code",
   "execution_count": 114,
   "metadata": {},
   "outputs": [],
   "source": [
    "def generate_data(data, list_name):\n",
    "    new_data = []\n",
    "    for i in final_train:\n",
    "        new_data.append(i)\n",
    "        sentence = i['sentence']\n",
    "        label = i['label']\n",
    "        tokens = sentence.split()\n",
    "        for idx, span in enumerate(label):\n",
    "            tmp = label.copy()\n",
    "            name = random.choice(list_name)\n",
    "            name_tokens = name.split()\n",
    "            new_tokens = tokens[:span[0]]+ name_tokens + tokens[span[1]+1:]\n",
    "            new_sentence = ' '.join(new_tokens)\n",
    "            new_label = [span[0], span[0] + len(name_tokens) - 1, span[2]]\n",
    "            tmp[idx] = new_label\n",
    "            new_data.append({\n",
    "                'sentence': new_sentence,\n",
    "                'label': tmp\n",
    "            })\n",
    "    return new_data\n",
    "            "
   ]
  },
  {
   "cell_type": "code",
   "execution_count": 127,
   "metadata": {},
   "outputs": [],
   "source": [
    "new_list.extend(['Vũ', 'Nam', 'Tony', 'Hoàng Vũ', 'Đức Huy', 'Thái sơn', 'Phí long', 'Ling', 'Trang', 'kiều trang', 'Mây Mây', 'Mee mee', 'Thịnh', 'Ronaldo', 'Trung chánh', 'Chánh', 'An', 'Sơn', 'Duy', 'Tâm', 'Thúy', 'Phương', 'Thảo', 'Tom', 'Huy', 'Hương', 'hường', 'Thắng', 'Đức','Duy Manh'])"
   ]
  },
  {
   "cell_type": "code",
   "execution_count": 128,
   "metadata": {},
   "outputs": [],
   "source": [
    "final_train_gen  = generate_data(final_train, new_list)"
   ]
  },
  {
   "cell_type": "code",
   "execution_count": 131,
   "metadata": {},
   "outputs": [],
   "source": [
    "write_data_spacy_format(final_train_gen, './pername/train.json')"
   ]
  },
  {
   "cell_type": "code",
   "execution_count": null,
   "metadata": {},
   "outputs": [],
   "source": []
  },
  {
   "cell_type": "code",
   "execution_count": null,
   "metadata": {},
   "outputs": [],
   "source": []
  },
  {
   "cell_type": "code",
   "execution_count": 146,
   "metadata": {},
   "outputs": [],
   "source": [
    "def read_syllables_datat_to_iob(path):\n",
    "    data = []\n",
    "    tokens = []\n",
    "    label = []\n",
    "    with open(path, 'r', encoding='utf-8') as f:\n",
    "        for i in f.readlines():\n",
    "            if not i.strip():\n",
    "                sentence = \" \".join(tokens)\n",
    "                data.append({\n",
    "                    'sentence': sentence,\n",
    "                    'label': label\n",
    "                })\n",
    "                tokens = []\n",
    "                label = []\n",
    "            else:\n",
    "                tokens.extend(i.strip().split(\"\\t\")[:-1])\n",
    "                label.append(i.strip().split(\"\\t\")[-1])\n",
    "    return data"
   ]
  },
  {
   "cell_type": "code",
   "execution_count": 147,
   "metadata": {},
   "outputs": [],
   "source": [
    "# synthesize data"
   ]
  },
  {
   "cell_type": "code",
   "execution_count": 148,
   "metadata": {},
   "outputs": [],
   "source": [
    "book_appt = read_syllables_datat_to_iob('./data_synthesize/book_appt.txt')\n",
    "cancel_appt = read_syllables_datat_to_iob('./data_synthesize/cancel_appt.txt')\n",
    "change_appt = read_syllables_datat_to_iob('./data_synthesize/change_appt.txt')\n",
    "infor_appt = read_syllables_datat_to_iob('./data_synthesize/infor_appt.txt')"
   ]
  },
  {
   "cell_type": "code",
   "execution_count": 150,
   "metadata": {},
   "outputs": [],
   "source": [
    "book_appt = iob2spacy(book_appt)\n",
    "cancel_appt = iob2spacy(cancel_appt)\n",
    "change_appt = iob2spacy(change_appt)\n",
    "infor_appt = iob2spacy(infor_appt)"
   ]
  },
  {
   "cell_type": "code",
   "execution_count": 152,
   "metadata": {},
   "outputs": [
    {
     "name": "stdout",
     "output_type": "stream",
     "text": [
      "3519\n",
      "3519\n",
      "3079\n",
      "2499\n"
     ]
    }
   ],
   "source": [
    "print(len(book_appt))\n",
    "print(len(cancel_appt))\n",
    "print(len(change_appt))\n",
    "print(len(infor_appt))\n"
   ]
  },
  {
   "cell_type": "code",
   "execution_count": 156,
   "metadata": {},
   "outputs": [
    {
     "name": "stdout",
     "output_type": "stream",
     "text": [
      "Total entity of data: 3199\n",
      "Total entity of data: 3199\n",
      "Total entity of data: 2799\n",
      "Total entity of data: 1000\n"
     ]
    }
   ],
   "source": [
    "book_appt = filter_entity(book_appt, \"PERSON_NAME\")\n",
    "cancel_appt = filter_entity(cancel_appt, \"PERSON_NAME\")\n",
    "change_appt = filter_entity(change_appt, \"PERSON_NAME\")\n",
    "infor_appt = filter_entity(infor_appt, \"PERSON_NAME\")"
   ]
  },
  {
   "cell_type": "code",
   "execution_count": 157,
   "metadata": {},
   "outputs": [
    {
     "name": "stdout",
     "output_type": "stream",
     "text": [
      "Ratio total sentence empty entity and data: 0.09093492469451549\n",
      "Ratio total sentence empty entity and data: 0.09093492469451549\n",
      "Ratio total sentence empty entity and data: 0.09093861643390712\n",
      "Ratio total sentence empty entity and data: 0.5998399359743898\n"
     ]
    }
   ],
   "source": [
    "check_sentence_not_entity(book_appt)\n",
    "check_sentence_not_entity(cancel_appt)\n",
    "check_sentence_not_entity(change_appt)\n",
    "check_sentence_not_entity(infor_appt)"
   ]
  },
  {
   "cell_type": "code",
   "execution_count": 158,
   "metadata": {},
   "outputs": [],
   "source": [
    "book_appt = format_entity(book_appt)\n",
    "cancel_appt = format_entity(cancel_appt)\n",
    "change_appt = format_entity(change_appt)\n",
    "infor_appt = format_entity(infor_appt)\n"
   ]
  },
  {
   "cell_type": "code",
   "execution_count": 160,
   "metadata": {},
   "outputs": [],
   "source": [
    "data_synth = []\n",
    "data_synth.extend(book_appt)\n",
    "data_synth.extend(cancel_appt)\n",
    "data_synth.extend(change_appt)\n",
    "data_synth.extend(infor_appt)"
   ]
  },
  {
   "cell_type": "code",
   "execution_count": 161,
   "metadata": {},
   "outputs": [
    {
     "data": {
      "text/plain": [
       "12616"
      ]
     },
     "execution_count": 161,
     "metadata": {},
     "output_type": "execute_result"
    }
   ],
   "source": [
    "len(data_synth)"
   ]
  },
  {
   "cell_type": "code",
   "execution_count": 163,
   "metadata": {},
   "outputs": [],
   "source": [
    "write_data_spacy_format(data_synth, './data_synthesize/data_synth.json')"
   ]
  },
  {
   "cell_type": "code",
   "execution_count": null,
   "metadata": {},
   "outputs": [],
   "source": []
  }
 ],
 "metadata": {
  "kernelspec": {
   "display_name": "Python 3",
   "language": "python",
   "name": "python3"
  },
  "language_info": {
   "codemirror_mode": {
    "name": "ipython",
    "version": 3
   },
   "file_extension": ".py",
   "mimetype": "text/x-python",
   "name": "python",
   "nbconvert_exporter": "python",
   "pygments_lexer": "ipython3",
   "version": "3.7.10"
  }
 },
 "nbformat": 4,
 "nbformat_minor": 4
}
